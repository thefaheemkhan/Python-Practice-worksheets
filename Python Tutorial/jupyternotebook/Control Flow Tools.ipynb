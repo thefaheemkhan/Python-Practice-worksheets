{
 "cells": [
  {
   "cell_type": "raw",
   "id": "505ac498",
   "metadata": {},
   "source": [
    "4. More Control Flow Tools\n",
    "\n",
    "4.1. if Statements\n",
    "4.2. for Statements\n",
    "4.3. The range() Function\n",
    "4.4. break and continue Statements, and else Clauses on Loops\n",
    "4.5. pass Statements\n",
    "4.6. match Statements\n",
    "4.7. Defining Functions\n",
    "4.8. More on Defining Functions\n",
    "    4.8.1. Default Argument Values\n",
    "    4.8.2. Keyword Arguments\n",
    "    4.8.3. Special parameters\n",
    "        4.8.3.1. Positional-or-Keyword Arguments\n",
    "        4.8.3.2. Positional-Only Parameters\n",
    "        4.8.3.3. Keyword-Only Arguments\n",
    "        4.8.3.4. Function Examples\n",
    "        4.8.3.5. Recap\n",
    "    4.8.4. Arbitrary Argument Lists\n",
    "    4.8.5. Unpacking Argument Lists\n",
    "    4.8.6. Lambda Expressions\n",
    "    4.8.7. Documentation Strings\n",
    "    4.8.8. Function Annotations\n",
    "4.9. Intermezzo: Coding Style"
   ]
  },
  {
   "cell_type": "markdown",
   "id": "df8926eb",
   "metadata": {},
   "source": [
    "\n",
    "# 4.1. if Statements"
   ]
  },
  {
   "cell_type": "code",
   "execution_count": 8,
   "id": "b4964e6e",
   "metadata": {},
   "outputs": [
    {
     "name": "stdout",
     "output_type": "stream",
     "text": [
      "Please enter an integer: 55\n",
      "Enter More\n"
     ]
    }
   ],
   "source": [
    "# Perhaps the most well-known statement type is the if statement. For example:\n",
    "\n",
    "x = int(input(\"Please enter an integer: \"))\n",
    "if x < 0:\n",
    "    x = 0\n",
    "    print('Negative changed to zero')\n",
    "elif x == 0:\n",
    "    print('Zero')\n",
    "elif x == 1:\n",
    "    print('Single')\n",
    "else:\n",
    "    print('Enter More')"
   ]
  },
  {
   "cell_type": "markdown",
   "id": "be5ce2e6",
   "metadata": {},
   "source": [
    "There can be zero or more elif parts, and the else part is optional. The keyword ‘elif’ is short for ‘else if’, and is useful to avoid excessive indentation. An if … elif … elif … sequence is a substitute for the switch or case statements found in other languages.\n",
    "\n",
    "If you’re comparing the same value to several constants, or checking for specific types or attributes, you may also find the match statement useful. For more details see match Statements.\n",
    "There can be zero or more elif parts, and the else part is optional. The keyword ‘elif’ is short for ‘else if’, and is useful to avoid excessive indentation. An if … elif … elif … sequence is a substitute for the switch or case statements found in other languages.\n",
    "\n",
    "If you’re comparing the same value to several constants, or checking for specific types or attributes, you may also find the match statement useful. For more details see match Statements."
   ]
  },
  {
   "cell_type": "markdown",
   "id": "a3b04ce1",
   "metadata": {},
   "source": [
    "# 4.2. for Statements"
   ]
  },
  {
   "cell_type": "markdown",
   "id": "736331c1",
   "metadata": {},
   "source": [
    "The for statement in Python differs a bit from what you may be used to in C or Pascal. Rather than always iterating over an arithmetic progression of numbers (like in Pascal), or giving the user the ability to define both the iteration step and halting condition (as C), Python’s for statement iterates over the items of any sequence (a list or a string), in the order that they appear in the sequence. For example (no pun intended):"
   ]
  },
  {
   "cell_type": "code",
   "execution_count": 10,
   "id": "6b056cee",
   "metadata": {},
   "outputs": [
    {
     "name": "stdout",
     "output_type": "stream",
     "text": [
      "cat 3\n",
      "window 6\n",
      "defenestrate 12\n"
     ]
    }
   ],
   "source": [
    "# Measure some strings:\n",
    "\n",
    "words = ['cat', 'window', 'defenestrate']\n",
    "for length in words:\n",
    "    print(length, len(length))"
   ]
  },
  {
   "cell_type": "markdown",
   "id": "36a401bf",
   "metadata": {},
   "source": [
    "Code that modifies a collection while iterating over that same collection can be tricky to get right. Instead, it is usually more straight-forward to loop over a copy of the collection or to create a new collection:\n",
    "Code that modifies a collection while iterating over that same collection can be tricky to get right. Instead, it is usually more straight-forward to loop over a copy of the collection or to create a new collection:"
   ]
  },
  {
   "cell_type": "code",
   "execution_count": 11,
   "id": "c6763c9a",
   "metadata": {},
   "outputs": [],
   "source": [
    "# Create a sample collection\n",
    "users = {'Hans': 'active', 'Éléonore': 'inactive', '景太郎': 'active'}\n",
    "\n",
    "# Strategy:  Iterate over a copy\n",
    "for user, status in users.copy().items():\n",
    "    if status == 'inactive':\n",
    "        del users[user]\n",
    "\n",
    "# Strategy:  Create a new collection\n",
    "active_users = {}\n",
    "for user, status in users.items():\n",
    "    if status == 'active':\n",
    "        active_users[user] = status"
   ]
  },
  {
   "cell_type": "code",
   "execution_count": null,
   "id": "31bde086",
   "metadata": {},
   "outputs": [],
   "source": []
  },
  {
   "cell_type": "code",
   "execution_count": 15,
   "id": "bde70010",
   "metadata": {},
   "outputs": [
    {
     "name": "stdout",
     "output_type": "stream",
     "text": [
      "Fount an even number:  0\n",
      "Found Odd Number:  1\n",
      "Fount an even number:  2\n",
      "Found Odd Number:  3\n",
      "Fount an even number:  4\n",
      "Found Odd Number:  5\n",
      "Fount an even number:  6\n",
      "Found Odd Number:  7\n",
      "Fount an even number:  8\n",
      "Found Odd Number:  9\n"
     ]
    }
   ],
   "source": [
    "for n in range(0,10):\n",
    "    if n%2==0:\n",
    "        print(\"Fount an even number: \",n)\n",
    "        continue\n",
    "    print(\"Found Odd Number: \",n)"
   ]
  },
  {
   "cell_type": "code",
   "execution_count": 16,
   "id": "c67418b0",
   "metadata": {},
   "outputs": [],
   "source": [
    "def parrot(voltage, state='a stiff', action='voom', type='Norwegian Blue'):\n",
    "    print(\"-- This parrot wouldn't\", action, end=' ')\n",
    "    print(\"if you put\", voltage, \"volts through it.\")\n",
    "    print(\"-- Lovely plumage, the\", type)\n",
    "    print(\"-- It's\", state, \"!\")"
   ]
  },
  {
   "cell_type": "code",
   "execution_count": null,
   "id": "243dd899",
   "metadata": {},
   "outputs": [],
   "source": []
  },
  {
   "cell_type": "code",
   "execution_count": null,
   "id": "5eb2e581",
   "metadata": {},
   "outputs": [],
   "source": []
  }
 ],
 "metadata": {
  "kernelspec": {
   "display_name": "Python 3 (ipykernel)",
   "language": "python",
   "name": "python3"
  },
  "language_info": {
   "codemirror_mode": {
    "name": "ipython",
    "version": 3
   },
   "file_extension": ".py",
   "mimetype": "text/x-python",
   "name": "python",
   "nbconvert_exporter": "python",
   "pygments_lexer": "ipython3",
   "version": "3.10.4"
  }
 },
 "nbformat": 4,
 "nbformat_minor": 5
}
