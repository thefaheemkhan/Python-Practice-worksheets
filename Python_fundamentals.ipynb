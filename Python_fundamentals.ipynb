{
  "nbformat": 4,
  "nbformat_minor": 0,
  "metadata": {
    "colab": {
      "provenance": [],
      "collapsed_sections": [
        "YsLB36tWHEwz",
        "BzuI6KObHLBH",
        "kYD63MF7HOyJ",
        "jMHr-5raHRpW",
        "EsWPc3AvHYTJ",
        "TKQ78geyHhz7",
        "7skMGSSFHoWw",
        "4PmO0dSTHvWw",
        "7f8PYfUGH0GT",
        "igIHwxukLjLW",
        "l1gGr4e3LuJk",
        "V0iQ7aslL52j",
        "YmeKOiynMCHj",
        "MZ5IfOmqSj52",
        "Kup79XmCStgs",
        "OyHLhud2S1by",
        "1g8734pcS9CH",
        "Cz9FIJZkTOYJ"
      ],
      "include_colab_link": true
    },
    "kernelspec": {
      "name": "python3",
      "display_name": "Python 3"
    },
    "language_info": {
      "name": "python"
    }
  },
  "cells": [
    {
      "cell_type": "markdown",
      "metadata": {
        "id": "view-in-github",
        "colab_type": "text"
      },
      "source": [
        "<a href=\"https://colab.research.google.com/github/thefaheemkhan/PythonDS/blob/main/Copy_of_session1_python_fundamentals.ipynb\" target=\"_parent\"><img src=\"https://colab.research.google.com/assets/colab-badge.svg\" alt=\"Open In Colab\"/></a>"
      ]
    },
    {
      "cell_type": "markdown",
      "source": [
        "# 1. Python Output"
      ],
      "metadata": {
        "id": "YsLB36tWHEwz"
      }
    },
    {
      "cell_type": "code",
      "source": [
        "# Python is a case sensitive language\n",
        "print('Hello World')"
      ],
      "metadata": {
        "colab": {
          "base_uri": "https://localhost:8080/"
        },
        "id": "5l246_zLHIEV",
        "outputId": "0db6b10e-d5ee-41b1-e71c-e96f1cb15221"
      },
      "execution_count": null,
      "outputs": [
        {
          "output_type": "stream",
          "name": "stdout",
          "text": [
            "Hello World\n"
          ]
        }
      ]
    },
    {
      "cell_type": "code",
      "source": [
        "# builtin_function_or_method\n",
        "type(print)"
      ],
      "metadata": {
        "colab": {
          "base_uri": "https://localhost:8080/"
        },
        "id": "OErEI7l8mCiC",
        "outputId": "5f763db4-99a2-4695-f4b1-81719b8d2400"
      },
      "execution_count": null,
      "outputs": [
        {
          "output_type": "execute_result",
          "data": {
            "text/plain": [
              "builtin_function_or_method"
            ]
          },
          "metadata": {},
          "execution_count": 3
        }
      ]
    },
    {
      "cell_type": "code",
      "source": [
        "print(\"Hello \") #string\n",
        "print(7) #Integer\n",
        "print(11.5) #float\n",
        "print(True) #Bollean"
      ],
      "metadata": {
        "colab": {
          "base_uri": "https://localhost:8080/"
        },
        "id": "bGdSXNW0mHci",
        "outputId": "3179cccb-579c-4e1d-cd20-ee88f2f665ca"
      },
      "execution_count": null,
      "outputs": [
        {
          "output_type": "stream",
          "name": "stdout",
          "text": [
            "Hello \n",
            "7\n",
            "11.5\n",
            "True\n"
          ]
        }
      ]
    },
    {
      "cell_type": "code",
      "source": [
        "# print(value, ..., sep=' ', end='\\n', file=sys.stdout, flush=False)\n",
        "print(1,2,3,end=' ----- ')\n",
        "print(\"This is life habibi\")"
      ],
      "metadata": {
        "colab": {
          "base_uri": "https://localhost:8080/"
        },
        "id": "y-NL43EFmi-n",
        "outputId": "2bdb3ce7-ec38-4bdb-f80b-f73c62fa6599"
      },
      "execution_count": null,
      "outputs": [
        {
          "output_type": "stream",
          "name": "stdout",
          "text": [
            "1 2 3 ----- This is life habibi\n"
          ]
        }
      ]
    },
    {
      "cell_type": "code",
      "source": [
        "print('hello')\n",
        "print('world')"
      ],
      "metadata": {
        "colab": {
          "base_uri": "https://localhost:8080/"
        },
        "id": "7mGPkXASnXxx",
        "outputId": "95fe8b81-be2d-4d49-a64c-fb9758b45972"
      },
      "execution_count": null,
      "outputs": [
        {
          "output_type": "stream",
          "name": "stdout",
          "text": [
            "hello\n",
            "world\n"
          ]
        }
      ]
    },
    {
      "cell_type": "code",
      "source": [
        "print('hello',end='-')\n",
        "print('world')"
      ],
      "metadata": {
        "colab": {
          "base_uri": "https://localhost:8080/"
        },
        "id": "0m4dTp6gngVj",
        "outputId": "f89346b9-b976-4f2a-a32f-ffe0fc206677"
      },
      "execution_count": null,
      "outputs": [
        {
          "output_type": "stream",
          "name": "stdout",
          "text": [
            "hello-world\n"
          ]
        }
      ]
    },
    {
      "cell_type": "markdown",
      "source": [
        "# 2. Data Types"
      ],
      "metadata": {
        "id": "BzuI6KObHLBH"
      }
    },
    {
      "cell_type": "code",
      "source": [
        "# ------- All Data Types in Python ---------\n",
        "# Integer\n",
        "# Float\n",
        "# Boolean\n",
        "# String/Text\n",
        "# Complex\n",
        "# List/Array\n",
        "# Tuples\n",
        "# Sets\n",
        "# Dictonaries\n",
        "# None"
      ],
      "metadata": {
        "id": "2EZadqN2EnNK"
      },
      "execution_count": null,
      "outputs": []
    },
    {
      "cell_type": "code",
      "source": [
        "# Integer\n",
        "print(8)\n",
        "# 1*10^308\n",
        "print(1e308)\n",
        "print(1e309) # this is infinite value"
      ],
      "metadata": {
        "colab": {
          "base_uri": "https://localhost:8080/"
        },
        "id": "0AD2yELLHOD5",
        "outputId": "9feecacf-4065-49eb-89d8-9e1122f1c6e6"
      },
      "execution_count": null,
      "outputs": [
        {
          "output_type": "stream",
          "name": "stdout",
          "text": [
            "8\n",
            "1e+308\n",
            "inf\n"
          ]
        }
      ]
    },
    {
      "cell_type": "code",
      "source": [
        "# Decimal/Float\n",
        "print(8.55)\n",
        "print(1.7e309) # this is infinite value\n",
        "print(1.7e308)"
      ],
      "metadata": {
        "colab": {
          "base_uri": "https://localhost:8080/"
        },
        "id": "6zf6tCPNoZqc",
        "outputId": "c75864b2-ba79-4edc-bf25-cfd3e07b5ee9"
      },
      "execution_count": null,
      "outputs": [
        {
          "output_type": "stream",
          "name": "stdout",
          "text": [
            "8.55\n",
            "inf\n",
            "1.7e+308\n"
          ]
        }
      ]
    },
    {
      "cell_type": "code",
      "source": [
        "# Boolean\n",
        "print(True)\n",
        "print(False)"
      ],
      "metadata": {
        "colab": {
          "base_uri": "https://localhost:8080/"
        },
        "id": "VN8v8HEQoZ3X",
        "outputId": "cec48661-7877-4bda-d53c-db172af05046"
      },
      "execution_count": null,
      "outputs": [
        {
          "output_type": "stream",
          "name": "stdout",
          "text": [
            "True\n",
            "False\n"
          ]
        }
      ]
    },
    {
      "cell_type": "code",
      "source": [
        "# Text/String\n",
        "print('Hello World')"
      ],
      "metadata": {
        "colab": {
          "base_uri": "https://localhost:8080/"
        },
        "id": "NEwaubEvpJen",
        "outputId": "4a350868-2948-400c-aeb5-5b3dc6929f86"
      },
      "execution_count": null,
      "outputs": [
        {
          "output_type": "stream",
          "name": "stdout",
          "text": [
            "Hello World\n"
          ]
        }
      ]
    },
    {
      "cell_type": "code",
      "source": [
        "# complex\n",
        "print(5+6j)"
      ],
      "metadata": {
        "colab": {
          "base_uri": "https://localhost:8080/"
        },
        "id": "L60DWHUVpQzj",
        "outputId": "3e19c8fc-a950-4b86-ee30-ae442cb783f0"
      },
      "execution_count": null,
      "outputs": [
        {
          "output_type": "stream",
          "name": "stdout",
          "text": [
            "(5+6j)\n"
          ]
        }
      ]
    },
    {
      "cell_type": "code",
      "source": [
        "# List-> C-> Array\n",
        "print([1,2,3,4,5])"
      ],
      "metadata": {
        "colab": {
          "base_uri": "https://localhost:8080/"
        },
        "id": "u0qI-mUZpWRh",
        "outputId": "18739a04-bc7e-4ea2-f6f8-8f240013ffd6"
      },
      "execution_count": null,
      "outputs": [
        {
          "output_type": "stream",
          "name": "stdout",
          "text": [
            "[1, 2, 3, 4, 5]\n"
          ]
        }
      ]
    },
    {
      "cell_type": "code",
      "source": [
        "# Tuple\n",
        "print((1,2,3,4,5))"
      ],
      "metadata": {
        "colab": {
          "base_uri": "https://localhost:8080/"
        },
        "id": "Futbt8RJpefw",
        "outputId": "17b6d674-d6b7-4f20-93a5-065764833d0d"
      },
      "execution_count": null,
      "outputs": [
        {
          "output_type": "stream",
          "name": "stdout",
          "text": [
            "(1, 2, 3, 4, 5)\n"
          ]
        }
      ]
    },
    {
      "cell_type": "code",
      "source": [
        "# Sets\n",
        "print({1,2,3,4,5})"
      ],
      "metadata": {
        "colab": {
          "base_uri": "https://localhost:8080/"
        },
        "id": "WW-etE4BplMR",
        "outputId": "fd796fce-76a2-4d0e-c611-5592277f657a"
      },
      "execution_count": null,
      "outputs": [
        {
          "output_type": "stream",
          "name": "stdout",
          "text": [
            "{1, 2, 3, 4, 5}\n"
          ]
        }
      ]
    },
    {
      "cell_type": "code",
      "source": [
        "# Dictionary\n",
        "print({'name':'Nitish','gender':'Male','weight':70})"
      ],
      "metadata": {
        "colab": {
          "base_uri": "https://localhost:8080/"
        },
        "id": "ssWbznaaprT6",
        "outputId": "f441104a-be19-44e6-df20-02e65b61ad4e"
      },
      "execution_count": null,
      "outputs": [
        {
          "output_type": "stream",
          "name": "stdout",
          "text": [
            "{'name': 'Nitish', 'gender': 'Male', 'weight': 70}\n"
          ]
        }
      ]
    },
    {
      "cell_type": "code",
      "source": [
        "# type\n",
        "type([1,2,3])"
      ],
      "metadata": {
        "colab": {
          "base_uri": "https://localhost:8080/"
        },
        "id": "NAJzbOAsq3bG",
        "outputId": "c6dafb00-02e4-46db-fdae-41f567d420bc"
      },
      "execution_count": null,
      "outputs": [
        {
          "output_type": "execute_result",
          "data": {
            "text/plain": [
              "list"
            ]
          },
          "metadata": {},
          "execution_count": 32
        }
      ]
    },
    {
      "cell_type": "markdown",
      "source": [
        "# 3. Variables"
      ],
      "metadata": {
        "id": "kYD63MF7HOyJ"
      }
    },
    {
      "cell_type": "code",
      "source": [
        "# Static Vs Dynamic Typing\n",
        "# Static Vs Dynamic Binding\n",
        "# stylish declaration techniques"
      ],
      "metadata": {
        "id": "op579nCUHQ24"
      },
      "execution_count": null,
      "outputs": []
    },
    {
      "cell_type": "code",
      "source": [
        "# Dynamic Typing\n",
        "#---- a = 5\n",
        "# Static Typing\n",
        "#---- int b = 5"
      ],
      "metadata": {
        "id": "K6LN3JhfsKIp"
      },
      "execution_count": null,
      "outputs": []
    },
    {
      "cell_type": "code",
      "source": [
        "# Dynamic Binding\n",
        "a = 5\n",
        "print(a)\n",
        "a = 'Faheem'\n",
        "print(a)\n",
        "\n",
        "# Static Binding\n",
        "#---- int a = 5\n"
      ],
      "metadata": {
        "colab": {
          "base_uri": "https://localhost:8080/"
        },
        "id": "5UpzC2tlskka",
        "outputId": "5da180d1-3c30-4a15-85d9-c01bc8df39e6"
      },
      "execution_count": null,
      "outputs": [
        {
          "output_type": "stream",
          "name": "stdout",
          "text": [
            "5\n",
            "Faheem\n"
          ]
        }
      ]
    },
    {
      "cell_type": "code",
      "source": [
        "# Declaring values in single line\n",
        "a,b,c = 1,2,3\n",
        "print(a,b,c)"
      ],
      "metadata": {
        "colab": {
          "base_uri": "https://localhost:8080/"
        },
        "id": "AYkxWEMItN9K",
        "outputId": "ba57fce3-5c0d-4c80-800f-a8c222e736d2"
      },
      "execution_count": null,
      "outputs": [
        {
          "output_type": "stream",
          "name": "stdout",
          "text": [
            "1 2 3\n"
          ]
        }
      ]
    },
    {
      "cell_type": "code",
      "source": [
        "# Declaring same value to multiple variable\n",
        "a=b=c= 5\n",
        "print(a,b,c)"
      ],
      "metadata": {
        "colab": {
          "base_uri": "https://localhost:8080/"
        },
        "id": "gcaARQh6tUtP",
        "outputId": "9ca9b3d7-aee1-4b26-d221-be04f5be0b99"
      },
      "execution_count": null,
      "outputs": [
        {
          "output_type": "stream",
          "name": "stdout",
          "text": [
            "5 5 5\n"
          ]
        }
      ]
    },
    {
      "cell_type": "markdown",
      "source": [
        "# 4. Keywords & Identifiers"
      ],
      "metadata": {
        "id": "jMHr-5raHRpW"
      }
    },
    {
      "cell_type": "code",
      "source": [
        "# Keywords"
      ],
      "metadata": {
        "id": "frABVH7pHXF8"
      },
      "execution_count": null,
      "outputs": []
    },
    {
      "cell_type": "code",
      "source": [
        "# Identifiers ---- Creating names is called identifier\n",
        "\n",
        "# Rule-1. You can't start with a digit\n",
        "name1 = 'Nitish'\n",
        "print(name1)\n",
        "\n",
        "# Rule-2. You can use special chars -> _\n",
        "_ = 'ntiish'\n",
        "print(_)\n",
        "\n",
        "# Rule-3. Identiers can not be keyword"
      ],
      "metadata": {
        "colab": {
          "base_uri": "https://localhost:8080/"
        },
        "id": "5EFqNEfpwwS5",
        "outputId": "55e51b35-8402-4a40-b312-0ad70af74bdd"
      },
      "execution_count": null,
      "outputs": [
        {
          "output_type": "stream",
          "name": "stdout",
          "text": [
            "Nitish\n",
            "ntiish\n"
          ]
        }
      ]
    },
    {
      "cell_type": "markdown",
      "source": [
        "# 5. User Input"
      ],
      "metadata": {
        "id": "EsWPc3AvHYTJ"
      }
    },
    {
      "cell_type": "code",
      "source": [
        "# Static Vs Dynamic\n",
        "input('Enter Email')"
      ],
      "metadata": {
        "colab": {
          "base_uri": "https://localhost:8080/",
          "height": 53
        },
        "id": "seRvw18RHhIo",
        "outputId": "1ccae179-67aa-40a0-8242-90d9d8772be8"
      },
      "execution_count": null,
      "outputs": [
        {
          "name": "stdout",
          "output_type": "stream",
          "text": [
            "Enter Emailnitish@gmail.com\n"
          ]
        },
        {
          "output_type": "execute_result",
          "data": {
            "text/plain": [
              "'nitish@gmail.com'"
            ],
            "application/vnd.google.colaboratory.intrinsic+json": {
              "type": "string"
            }
          },
          "metadata": {},
          "execution_count": 49
        }
      ]
    },
    {
      "cell_type": "code",
      "source": [
        "# take input from users and store them in a variable\n",
        "fnum = int(input('enter first number'))\n",
        "snum = int(input('enter second number'))\n",
        "#print(type(fnum),type(snum))\n",
        "# add the 2 variables\n",
        "result = fnum + snum\n",
        "# print the result\n",
        "print(result)\n",
        "print(type(fnum))"
      ],
      "metadata": {
        "colab": {
          "base_uri": "https://localhost:8080/"
        },
        "id": "HDIZMv91zbXY",
        "outputId": "1be9a559-7407-4eb2-b45f-dd2360d113d2"
      },
      "execution_count": null,
      "outputs": [
        {
          "output_type": "stream",
          "name": "stdout",
          "text": [
            "enter first number56\n",
            "enter second number67\n",
            "123\n",
            "<class 'int'>\n"
          ]
        }
      ]
    },
    {
      "cell_type": "markdown",
      "source": [
        "# 6. Type Conversion"
      ],
      "metadata": {
        "id": "TKQ78geyHhz7"
      }
    },
    {
      "cell_type": "code",
      "source": [
        "# Implicit Vs Explicit\n",
        "print(5+5.6)\n",
        "print(type(5),type(5.6))\n"
      ],
      "metadata": {
        "colab": {
          "base_uri": "https://localhost:8080/"
        },
        "id": "BEuLxINMHnzk",
        "outputId": "1c33cb81-4e0f-4990-8d36-dc0c92e39870"
      },
      "execution_count": null,
      "outputs": [
        {
          "output_type": "stream",
          "name": "stdout",
          "text": [
            "10.6\n",
            "<class 'int'> <class 'float'>\n"
          ]
        }
      ]
    },
    {
      "cell_type": "code",
      "source": [
        "# Explicit\n",
        "# str -> int\n",
        "#int(4+5j)\n",
        "\n",
        "# int to str\n",
        "str(5)\n",
        "\n",
        "# float\n",
        "float(4)"
      ],
      "metadata": {
        "colab": {
          "base_uri": "https://localhost:8080/"
        },
        "id": "-dyXjVl7115d",
        "outputId": "c8b98b45-1eb4-4691-c677-2ef9643ab605"
      },
      "execution_count": null,
      "outputs": [
        {
          "output_type": "execute_result",
          "data": {
            "text/plain": [
              "4.0"
            ]
          },
          "metadata": {},
          "execution_count": 64
        }
      ]
    },
    {
      "cell_type": "markdown",
      "source": [
        "# 7. Literals"
      ],
      "metadata": {
        "id": "7skMGSSFHoWw"
      }
    },
    {
      "cell_type": "code",
      "source": [
        "# Raw values stored in variable is called literals.\n",
        "# Name(Variable) =(Operator) Faheem(Literal)\n",
        "\n",
        "a = 0b1010 #Binary Literals\n",
        "b = 100 #Decimal Literal \n",
        "c = 0o310 #Octal Literal\n",
        "d = 0x12c #Hexadecimal Literal\n",
        "\n",
        "#Float Literal\n",
        "float_1 = 10.5 \n",
        "float_2 = 1.5e2 # 1.5 * 10^2\n",
        "float_3 = 1.5e-3 # 1.5 * 10^-3\n",
        "\n",
        "#Complex Literal \n",
        "x = 3.14j\n",
        "\n",
        "print(a, b, c, d)\n",
        "print(float_1, float_2,float_3)\n",
        "print(x, x.imag, x.real)"
      ],
      "metadata": {
        "id": "4Q6wfNw1Huao",
        "colab": {
          "base_uri": "https://localhost:8080/"
        },
        "outputId": "3cbae56f-cfa9-4e59-ee23-d7b8a79d794f"
      },
      "execution_count": null,
      "outputs": [
        {
          "output_type": "stream",
          "name": "stdout",
          "text": [
            "10 100 200 300\n",
            "10.5 150.0 0.0015\n",
            "3.14j 3.14 0.0\n"
          ]
        }
      ]
    },
    {
      "cell_type": "code",
      "source": [
        "# binary\n",
        "x = 3.14j\n",
        "print(x.imag)"
      ],
      "metadata": {
        "colab": {
          "base_uri": "https://localhost:8080/"
        },
        "id": "8UhbuqqD4X4x",
        "outputId": "2d04193f-9a26-48d8-bc1a-58590402b3bf"
      },
      "execution_count": null,
      "outputs": [
        {
          "output_type": "stream",
          "name": "stdout",
          "text": [
            "3.14\n"
          ]
        }
      ]
    },
    {
      "cell_type": "code",
      "source": [
        "string = 'This is Python'\n",
        "strings = \"This is Python\"\n",
        "char = \"C\"\n",
        "multiline_str = \"\"\"This is a multiline string with more than one line code.\"\"\"\n",
        "unicode = u\"\\U0001f600\\U0001F606\\U0001F923\"\n",
        "raw_str = r\"raw \\n string\"\n",
        "\n",
        "print(string)\n",
        "print(strings)\n",
        "print(char)\n",
        "print(multiline_str)\n",
        "print(unicode)\n",
        "print(raw_str)"
      ],
      "metadata": {
        "colab": {
          "base_uri": "https://localhost:8080/"
        },
        "id": "gPIDz0f6bwc1",
        "outputId": "a06272b3-e416-483c-fbca-4ab6c72ed19e"
      },
      "execution_count": null,
      "outputs": [
        {
          "output_type": "stream",
          "name": "stdout",
          "text": [
            "This is Python\n",
            "This is Python\n",
            "C\n",
            "This is a multiline string with more than one line code.\n",
            "😀😆🤣\n",
            "raw \\n string\n"
          ]
        }
      ]
    },
    {
      "cell_type": "code",
      "source": [
        "a = True + 4\n",
        "b = False + 10\n",
        "\n",
        "print(\"a:\", a)\n",
        "print(\"b:\", b)"
      ],
      "metadata": {
        "colab": {
          "base_uri": "https://localhost:8080/"
        },
        "id": "78PBluZub3vT",
        "outputId": "bb181fa0-3e65-4dd4-f2d2-54c9785baba1"
      },
      "execution_count": null,
      "outputs": [
        {
          "output_type": "stream",
          "name": "stdout",
          "text": [
            "a: 5\n",
            "b: 10\n"
          ]
        }
      ]
    },
    {
      "cell_type": "code",
      "source": [
        "k = None\n",
        "a = 5\n",
        "b = 6\n",
        "print('Program exe')"
      ],
      "metadata": {
        "colab": {
          "base_uri": "https://localhost:8080/"
        },
        "id": "g9ANbWx_b6q1",
        "outputId": "ad5546f4-62f8-4add-fdc9-b4c23625fd33"
      },
      "execution_count": null,
      "outputs": [
        {
          "output_type": "stream",
          "name": "stdout",
          "text": [
            "Program exe\n"
          ]
        }
      ]
    },
    {
      "cell_type": "markdown",
      "source": [
        "# -------------------------------------------------------------------------"
      ],
      "metadata": {
        "id": "JZ2-AXIOMLPo"
      }
    },
    {
      "cell_type": "markdown",
      "source": [
        "# Operators in Python\n",
        "\n",
        "- Arithmetic Operators\n",
        "- Relational Operators\n",
        "- Logical Operators\n",
        "- Bitwise Operators\n",
        "- Assignment Operators\n",
        "- Membership Operators"
      ],
      "metadata": {
        "id": "4PmO0dSTHvWw"
      }
    },
    {
      "cell_type": "code",
      "source": [
        "# Arithmetic\n",
        "# Relational\n",
        "# Logical\n",
        "# Bitwise\n",
        "# Assignment\n",
        "# Membership"
      ],
      "metadata": {
        "id": "jx4CVLt6HzFw"
      },
      "execution_count": null,
      "outputs": []
    },
    {
      "cell_type": "code",
      "source": [
        "# Arithmetric Operators\n",
        "print(5+6)\n",
        "\n",
        "print(5-6)\n",
        "\n",
        "print(5*6)\n",
        "\n",
        "print(5/2)\n",
        "\n",
        "print(5//2)\n",
        "\n",
        "print(5%2)\n",
        "\n",
        "print(5**2)"
      ],
      "metadata": {
        "colab": {
          "base_uri": "https://localhost:8080/"
        },
        "id": "b6UXbIlkMkVQ",
        "outputId": "10536a51-ebfa-4e40-a705-4adcbafec955"
      },
      "execution_count": null,
      "outputs": [
        {
          "output_type": "stream",
          "name": "stdout",
          "text": [
            "11\n",
            "-1\n",
            "30\n",
            "2.5\n",
            "2\n",
            "1\n",
            "25\n"
          ]
        }
      ]
    },
    {
      "cell_type": "code",
      "source": [
        "# Relational Operators\n",
        "print(4>5)\n",
        "\n",
        "print(4<5)\n",
        "\n",
        "print(4>=4)\n",
        "\n",
        "print(4<=4)\n",
        "\n",
        "print(4==4)\n",
        "\n",
        "print(4!=4)"
      ],
      "metadata": {
        "colab": {
          "base_uri": "https://localhost:8080/"
        },
        "id": "gcU2dJ-kMpDQ",
        "outputId": "f7b1464e-06bb-430c-d6d1-0e5820075cab"
      },
      "execution_count": null,
      "outputs": [
        {
          "output_type": "stream",
          "name": "stdout",
          "text": [
            "False\n",
            "True\n",
            "True\n",
            "True\n",
            "True\n",
            "False\n"
          ]
        }
      ]
    },
    {
      "cell_type": "code",
      "source": [
        "# Logical Operators\n",
        "print(1 and 0)\n",
        "\n",
        "print(1 or 0)\n",
        "\n",
        "print(not 1)"
      ],
      "metadata": {
        "colab": {
          "base_uri": "https://localhost:8080/"
        },
        "id": "160acQXtMuge",
        "outputId": "0fe7a50f-14f7-49c1-ad0e-163328b03f86"
      },
      "execution_count": null,
      "outputs": [
        {
          "output_type": "stream",
          "name": "stdout",
          "text": [
            "0\n",
            "1\n",
            "False\n"
          ]
        }
      ]
    },
    {
      "cell_type": "code",
      "source": [
        "# Bitwise Operators\n",
        "\n",
        "# bitwise and\n",
        "print(2 & 3)\n",
        "\n",
        "# bitwise or\n",
        "print(2 | 3)\n",
        "\n",
        "# bitwise xor\n",
        "print(2 ^ 3)\n",
        "\n",
        "print(~3)\n",
        "\n",
        "print(4 >> 2)\n",
        "\n",
        "print(5 << 2)"
      ],
      "metadata": {
        "colab": {
          "base_uri": "https://localhost:8080/"
        },
        "id": "6P7jS_oDMyd3",
        "outputId": "148a7dc2-8798-4c0f-b036-8c6d54baa4ef"
      },
      "execution_count": null,
      "outputs": [
        {
          "output_type": "stream",
          "name": "stdout",
          "text": [
            "2\n",
            "3\n",
            "1\n",
            "-4\n",
            "1\n",
            "20\n"
          ]
        }
      ]
    },
    {
      "cell_type": "code",
      "source": [
        "# Assignment Operators\n",
        "\n",
        "# = \n",
        "# a = 2\n",
        "\n",
        "a = 2\n",
        "\n",
        "# a = a % 2\n",
        "a %= 2\n",
        "\n",
        "# a++ ++a\n",
        "\n",
        "print(a)"
      ],
      "metadata": {
        "colab": {
          "base_uri": "https://localhost:8080/"
        },
        "id": "O9gRi8fFM2iZ",
        "outputId": "0b6ab205-ec07-48b0-c2fb-dcee7e9053ba"
      },
      "execution_count": null,
      "outputs": [
        {
          "output_type": "stream",
          "name": "stdout",
          "text": [
            "0\n"
          ]
        }
      ]
    },
    {
      "cell_type": "code",
      "source": [
        "# Membership Operators\n",
        "\n",
        "# in/not in\n",
        "\n",
        "print('D' not in 'Delhi')\n",
        "\n",
        "print(1 in [2,3,4,5,6])"
      ],
      "metadata": {
        "colab": {
          "base_uri": "https://localhost:8080/"
        },
        "id": "k0KSTm65M7Cl",
        "outputId": "3901a146-81f9-43c1-e8f0-f3925f1f41df"
      },
      "execution_count": null,
      "outputs": [
        {
          "output_type": "stream",
          "name": "stdout",
          "text": [
            "False\n",
            "False\n"
          ]
        }
      ]
    },
    {
      "cell_type": "code",
      "source": [
        "# Program - Find the sum of a 3 digit number entered by the user\n",
        "\n",
        "number = int(input('Enter a 3 digit number'))\n",
        "\n",
        "# 345%10 -> 5\n",
        "a = number%10\n",
        "\n",
        "number = number//10\n",
        "\n",
        "# 34%10 -> 4\n",
        "b = number % 10\n",
        "\n",
        "number = number//10\n",
        "# 3 % 10 -> 3\n",
        "c = number % 10\n",
        "\n",
        "print(a + b + c)"
      ],
      "metadata": {
        "colab": {
          "base_uri": "https://localhost:8080/"
        },
        "id": "4Koc_oP8NA6c",
        "outputId": "0795b177-f21b-491c-bd40-10e65aa9818a"
      },
      "execution_count": null,
      "outputs": [
        {
          "output_type": "stream",
          "name": "stdout",
          "text": [
            "Enter a 3 digit number55\n",
            "10\n"
          ]
        }
      ]
    },
    {
      "cell_type": "markdown",
      "source": [
        "# If-else in Python"
      ],
      "metadata": {
        "id": "7f8PYfUGH0GT"
      }
    },
    {
      "cell_type": "code",
      "source": [
        "# login program and indentation\n",
        "# email -> nitish.campusx@gmail.com\n",
        "# password -> 1234\n",
        "\n",
        "email = input('enter email')\n",
        "password = input('enter password')\n",
        "\n",
        "if email == 'nitish.campusx@gmail.com' and password == '1234':\n",
        "  print('Welcome')\n",
        "elif email == 'nitish.campusx@gmail.com' and password != '1234':\n",
        "  # tell the user\n",
        "  print('Incorrect password')\n",
        "  password = input('enter password again')\n",
        "  if password == '1234':\n",
        "    print('Welcome,finally!')\n",
        "  else:\n",
        "    print('beta tumse na ho paayega!')\n",
        "else:\n",
        "  print('Not correct')"
      ],
      "metadata": {
        "id": "RivuEXxaH4dZ",
        "colab": {
          "base_uri": "https://localhost:8080/"
        },
        "outputId": "7899ffbc-2f08-4d91-c361-2001feda473e"
      },
      "execution_count": null,
      "outputs": [
        {
          "output_type": "stream",
          "name": "stdout",
          "text": [
            "enter emailabc@gmail.com\n",
            "enter passwordkahakama\n",
            "Not correct\n"
          ]
        }
      ]
    },
    {
      "cell_type": "code",
      "source": [
        "# if-else examples\n",
        "# 1. Find the min of 3 given numbers\n",
        "# 2. Menu Driven Program"
      ],
      "metadata": {
        "id": "emx31K6IMsLC"
      },
      "execution_count": null,
      "outputs": []
    },
    {
      "cell_type": "code",
      "source": [
        "# min of 3 number\n",
        "\n",
        "a = int(input('first num'))\n",
        "b = int(input('second num'))\n",
        "c = int(input('third num'))\n",
        "\n",
        "if a<b and a<c:\n",
        "  print('smallest is',a)\n",
        "elif b<c:\n",
        "  print('smallest is',b)\n",
        "else:\n",
        "  print('smallest is',c)"
      ],
      "metadata": {
        "colab": {
          "base_uri": "https://localhost:8080/"
        },
        "id": "ZIC7d8svNlfx",
        "outputId": "812c6488-53c4-4f82-ace7-fb7e1b82038f"
      },
      "execution_count": null,
      "outputs": [
        {
          "output_type": "stream",
          "name": "stdout",
          "text": [
            "first num2\n",
            "second num5\n",
            "third num6\n",
            "smallest is 2\n"
          ]
        }
      ]
    },
    {
      "cell_type": "code",
      "source": [
        "# menu driven calculator\n",
        "menu = input(\"\"\"\n",
        "Hi! how can I help you.\n",
        "1. Enter 1 for pin change\n",
        "2. Enter 2 for balance check\n",
        "3. Enter 3 for withdrawl\n",
        "4. Enter 4 for exit\n",
        "\"\"\")\n",
        "\n",
        "if menu == '1':\n",
        "  print('pin change')\n",
        "elif menu == '2':\n",
        "  print('balance')\n",
        "else:\n",
        "  print('exit')"
      ],
      "metadata": {
        "colab": {
          "base_uri": "https://localhost:8080/"
        },
        "id": "fqEhpJEMNugf",
        "outputId": "089cc714-dbd5-4ea6-9b5a-400e020d1c5d"
      },
      "execution_count": null,
      "outputs": [
        {
          "output_type": "stream",
          "name": "stdout",
          "text": [
            "\n",
            "Hi! how can I help you.\n",
            "1. Enter 1 for pin change\n",
            "2. Enter 2 for balance check\n",
            "3. Enter 3 for withdrawl\n",
            "4. Enter 4 for exit\n",
            "hhuh\n",
            "exit\n"
          ]
        }
      ]
    },
    {
      "cell_type": "markdown",
      "source": [
        "# Modules in Python\n",
        "\n",
        "- math\n",
        "- keywords\n",
        "- random\n",
        "- datetime"
      ],
      "metadata": {
        "id": "igIHwxukLjLW"
      }
    },
    {
      "cell_type": "code",
      "source": [
        "# math\n",
        "import math\n",
        "\n",
        "math.sqrt(196)"
      ],
      "metadata": {
        "colab": {
          "base_uri": "https://localhost:8080/"
        },
        "id": "DH_EuELULsJp",
        "outputId": "5569d4bb-86e8-4a88-9a10-58f003c365d7"
      },
      "execution_count": null,
      "outputs": [
        {
          "output_type": "execute_result",
          "data": {
            "text/plain": [
              "14.0"
            ]
          },
          "metadata": {},
          "execution_count": 30
        }
      ]
    },
    {
      "cell_type": "code",
      "source": [
        "# keyword\n",
        "import keyword\n",
        "print(keyword.kwlist)"
      ],
      "metadata": {
        "colab": {
          "base_uri": "https://localhost:8080/"
        },
        "id": "pfGAn2fqN_vR",
        "outputId": "57da4557-791b-48f6-83bb-418b9351ec68"
      },
      "execution_count": null,
      "outputs": [
        {
          "output_type": "stream",
          "name": "stdout",
          "text": [
            "['False', 'None', 'True', 'and', 'as', 'assert', 'async', 'await', 'break', 'class', 'continue', 'def', 'del', 'elif', 'else', 'except', 'finally', 'for', 'from', 'global', 'if', 'import', 'in', 'is', 'lambda', 'nonlocal', 'not', 'or', 'pass', 'raise', 'return', 'try', 'while', 'with', 'yield']\n"
          ]
        }
      ]
    },
    {
      "cell_type": "code",
      "source": [
        "# random\n",
        "import random\n",
        "print(random.randint(1,100))"
      ],
      "metadata": {
        "colab": {
          "base_uri": "https://localhost:8080/"
        },
        "id": "9NLXhZXjOAqB",
        "outputId": "20e31290-9f3c-4595-e04a-49d029b5c47b"
      },
      "execution_count": null,
      "outputs": [
        {
          "output_type": "stream",
          "name": "stdout",
          "text": [
            "74\n"
          ]
        }
      ]
    },
    {
      "cell_type": "code",
      "source": [
        "# datetime\n",
        "import datetime\n",
        "print(datetime.datetime.now())"
      ],
      "metadata": {
        "colab": {
          "base_uri": "https://localhost:8080/"
        },
        "id": "VcYOel21OA7p",
        "outputId": "a7e05a15-12dc-43d6-d614-575227d6565c"
      },
      "execution_count": null,
      "outputs": [
        {
          "output_type": "stream",
          "name": "stdout",
          "text": [
            "2022-11-26 09:15:40.051190\n"
          ]
        }
      ]
    },
    {
      "cell_type": "code",
      "source": [
        "help(\"modules\")"
      ],
      "metadata": {
        "colab": {
          "base_uri": "https://localhost:8080/"
        },
        "id": "jnL8RsJEOKnM",
        "outputId": "9142e0be-28b4-44d0-a9ac-986e8b862b41"
      },
      "execution_count": null,
      "outputs": [
        {
          "output_type": "stream",
          "name": "stdout",
          "text": [
            "\n",
            "Please wait a moment while I gather a list of all available modules...\n",
            "\n"
          ]
        },
        {
          "output_type": "stream",
          "name": "stderr",
          "text": [
            "/usr/local/lib/python3.7/dist-packages/IPython/kernel/__init__.py:13: ShimWarning: The `IPython.kernel` package has been deprecated since IPython 4.0.You should import from ipykernel or jupyter_client instead.\n",
            "  \"You should import from ipykernel or jupyter_client instead.\", ShimWarning)\n",
            "/usr/local/lib/python3.7/dist-packages/llvmlite/llvmpy/__init__.py:4: UserWarning: The module `llvmlite.llvmpy` is deprecated and will be removed in the future.\n",
            "  \"The module `llvmlite.llvmpy` is deprecated and will be removed in the \"\n",
            "/usr/local/lib/python3.7/dist-packages/llvmlite/llvmpy/core.py:9: UserWarning: The module `llvmlite.llvmpy.core` is deprecated and will be removed in the future. Equivalent functionality is provided by `llvmlite.ir`.\n",
            "  \"The module `llvmlite.llvmpy.core` is deprecated and will be removed in \"\n",
            "WARNING: AstropyDeprecationWarning: The private astropy._erfa module has been made into its own package, pyerfa, which is a dependency of astropy and can be imported directly using \"import erfa\" [astropy._erfa]\n",
            "WARNING:astropy:AstropyDeprecationWarning: The private astropy._erfa module has been made into its own package, pyerfa, which is a dependency of astropy and can be imported directly using \"import erfa\"\n",
            "/usr/local/lib/python3.7/dist-packages/caffe2/__init__.py:5: UserWarning: Caffe2 support is not fully enabled in this PyTorch build. Please enable Caffe2 by building PyTorch from source with `BUILD_CAFFE2=1` flag.\n",
            "  warnings.warn(\"Caffe2 support is not fully enabled in this PyTorch build. \"\n",
            "/usr/local/lib/python3.7/dist-packages/caffe2/proto/__init__.py:17: UserWarning: Caffe2 support is not enabled in this PyTorch build. Please enable Caffe2 by building PyTorch from source with `BUILD_CAFFE2=1` flag.\n",
            "  warnings.warn('Caffe2 support is not enabled in this PyTorch build. '\n",
            "/usr/local/lib/python3.7/dist-packages/caffe2/proto/__init__.py:17: UserWarning: Caffe2 support is not enabled in this PyTorch build. Please enable Caffe2 by building PyTorch from source with `BUILD_CAFFE2=1` flag.\n",
            "  warnings.warn('Caffe2 support is not enabled in this PyTorch build. '\n",
            "/usr/local/lib/python3.7/dist-packages/caffe2/python/__init__.py:9: UserWarning: Caffe2 support is not enabled in this PyTorch build. Please enable Caffe2 by building PyTorch from source with `BUILD_CAFFE2=1` flag.\n",
            "  warnings.warn('Caffe2 support is not enabled in this PyTorch build. '\n",
            "/usr/local/lib/python3.7/dist-packages/holidays/countries/eswatini.py:85: DeprecationWarning:\n",
            "\n",
            "Swaziland is deprecated, use Eswatini instead.\n",
            "\n",
            "/usr/local/lib/python3.7/dist-packages/past/types/oldstr.py:5: DeprecationWarning:\n",
            "\n",
            "Using or importing the ABCs from 'collections' instead of from 'collections.abc' is deprecated since Python 3.3,and in 3.9 it will stop working\n",
            "\n",
            "/usr/local/lib/python3.7/dist-packages/intervaltree/intervaltree.py:37: DeprecationWarning:\n",
            "\n",
            "Using or importing the ABCs from 'collections' instead of from 'collections.abc' is deprecated since Python 3.3,and in 3.9 it will stop working\n",
            "\n",
            "/usr/local/lib/python3.7/dist-packages/jupyter_client/ssh/tunnel.py:57: DeprecationWarning:\n",
            "\n",
            "zmq.utils.strtypes is deprecated in pyzmq 23.\n",
            "\n",
            "/usr/local/lib/python3.7/dist-packages/librosa/core/constantq.py:1059: DeprecationWarning:\n",
            "\n",
            "`np.complex` is a deprecated alias for the builtin `complex`. To silence this warning, use `complex` by itself. Doing this will not modify any behavior and is safe. If you specifically wanted the numpy scalar type, use `np.complex128` here.\n",
            "Deprecated in NumPy 1.20; for more details and guidance: https://numpy.org/devdocs/release/1.20.0-notes.html#deprecations\n",
            "\n"
          ]
        },
        {
          "output_type": "stream",
          "name": "stdout",
          "text": [
            "Downloading http://dlib.net/files/shape_predictor_68_face_landmarks.dat.bz2 to /root/mlxtend_data/shape_predictor_68_face_landmarks.dat.bz2\n"
          ]
        },
        {
          "output_type": "stream",
          "name": "stderr",
          "text": [
            "/usr/local/lib/python3.7/dist-packages/nbconvert/filters/strings.py:22: DeprecationWarning:\n",
            "\n",
            "defusedxml.cElementTree is deprecated, import from defusedxml.ElementTree instead.\n",
            "\n",
            "/usr/local/lib/python3.7/dist-packages/nibabel/quaternions.py:31: DeprecationWarning:\n",
            "\n",
            "`np.float` is a deprecated alias for the builtin `float`. To silence this warning, use `float` by itself. Doing this will not modify any behavior and is safe. If you specifically wanted the numpy scalar type, use `np.float64` here.\n",
            "Deprecated in NumPy 1.20; for more details and guidance: https://numpy.org/devdocs/release/1.20.0-notes.html#deprecations\n",
            "\n",
            "/usr/lib/python3.7/pkgutil.py:92: UserWarning:\n",
            "\n",
            "The DICOM readers are highly experimental, unstable, and only work for Siemens time-series at the moment\n",
            "Please use with caution.  We would be grateful for your help in improving them\n",
            "\n",
            "/usr/local/lib/python3.7/dist-packages/nltk/twitter/__init__.py:21: UserWarning:\n",
            "\n",
            "The twython library has not been installed. Some functionality from the twitter package will not be available.\n",
            "\n",
            "/usr/local/lib/python3.7/dist-packages/pip/_vendor/packaging/version.py:130: DeprecationWarning:\n",
            "\n",
            "Creating a LegacyVersion has been deprecated and will be removed in the next major release\n",
            "\n",
            "/usr/local/lib/python3.7/dist-packages/pip/_vendor/packaging/version.py:130: DeprecationWarning:\n",
            "\n",
            "Creating a LegacyVersion has been deprecated and will be removed in the next major release\n",
            "\n",
            "/usr/lib/python3.7/pkgutil.py:92: UserWarning: Viewer requires Qt\n",
            "/usr/local/lib/python3.7/dist-packages/sphinx/websupport/__init__.py:25: RemovedInSphinx20Warning: sphinx.websupport module is now provided as sphinxcontrib-websupport. sphinx.websupport will be removed at Sphinx-2.0. Please use the package instead.\n",
            "/usr/local/lib/python3.7/dist-packages/marshmallow/fields.py:573: RemovedInMarshmallow4Warning: The 'missing' argument to fields is deprecated. Use 'load_default' instead.\n",
            "/usr/local/lib/python3.7/dist-packages/tensorboard/_vendor/html5lib/filters/sanitizer.py:29: DeprecationWarning: html5lib's sanitizer is deprecated; see https://github.com/html5lib/html5lib-python/issues/443 and please let us know if Bleach is unsuitable for your needs\n",
            "/usr/local/lib/python3.7/dist-packages/torch/distributed/_sharded_tensor/__init__.py:10: DeprecationWarning: torch.distributed._sharded_tensor will be deprecated, use torch.distributed._shard.sharded_tensor instead\n",
            "/usr/local/lib/python3.7/dist-packages/torch/distributed/_sharding_spec/__init__.py:10: DeprecationWarning: torch.distributed._sharding_spec will be deprecated, use torch.distributed._shard.sharding_spec instead\n"
          ]
        },
        {
          "output_type": "stream",
          "name": "stdout",
          "text": [
            "No CUDA runtime is found, using CUDA_HOME='/usr/local/cuda'\n"
          ]
        },
        {
          "output_type": "stream",
          "name": "stderr",
          "text": [
            "/usr/lib/python3.7/pkgutil.py:107: VisibleDeprecationWarning: zmq.eventloop.minitornado is deprecated in pyzmq 14.0 and will be removed.\n",
            "    Install tornado itself to use zmq with the tornado IOLoop.\n",
            "    \n"
          ]
        },
        {
          "output_type": "stream",
          "name": "stdout",
          "text": [
            "Cython              colorcet            jupyterlab_widgets  reprlib\n",
            "IPython             colorlover          kaggle              requests\n",
            "OpenGL              colorsys            kanren              requests_oauthlib\n",
            "PIL                 community           kapre               resampy\n",
            "ScreenResolution    compileall          keras               resource\n",
            "__future__          concurrent          keras_preprocessing rlcompleter\n",
            "_abc                confection          keyword             rmagic\n",
            "_ast                configparser        kiwisolver          rpy2\n",
            "_asyncio            cons                korean_lunar_calendar rsa\n",
            "_bisect             contextlib          langcodes           runpy\n",
            "_blake2             contextlib2         lib2to3             sched\n",
            "_bootlocale         contextvars         libfuturize         scipy\n",
            "_bz2                convertdate         libpasteurize       scs\n",
            "_cffi_backend       copy                librosa             seaborn\n",
            "_codecs             copyreg             lightgbm            secrets\n",
            "_codecs_cn          crashtest           linecache           select\n",
            "_codecs_hk          crcmod              llvmlite            selectors\n",
            "_codecs_iso2022     crypt               lmdb                send2trash\n",
            "_codecs_jp          csimdjson           locale              setuptools\n",
            "_codecs_kr          csv                 locket              setuptools_git\n",
            "_codecs_tw          ctypes              logging             shapely\n",
            "_collections        cufflinks           lsb_release         shelve\n",
            "_collections_abc    curses              lunarcalendar       shlex\n",
            "_compat_pickle      cv2                 lxml                shutil\n",
            "_compression        cvxopt              lzma                signal\n",
            "_contextvars        cvxpy               macpath             simdjson\n",
            "_crypt              cycler              mailbox             site\n",
            "_csv                cymem               mailcap             sitecustomize\n",
            "_ctypes             cython              markdown            six\n",
            "_ctypes_test        cythonmagic         markupsafe          skimage\n",
            "_curses             daft                marshal             sklearn\n",
            "_curses_panel       dask                marshmallow         sklearn_pandas\n",
            "_cvxcore            dataclasses         math                slugify\n",
            "_datetime           datascience         matplotlib          smart_open\n",
            "_dbm                datetime            matplotlib_venn     smtpd\n",
            "_decimal            dateutil            mimetypes           smtplib\n",
            "_distutils_hack     db_dtypes           missingno           sndhdr\n",
            "_dlib_pybind11      dbm                 mistune             snowballstemmer\n",
            "_dummy_thread       dbus                mizani              socket\n",
            "_ecos               debugpy             mlxtend             socketserver\n",
            "_elementtree        decimal             mmap                socks\n",
            "_functools          decorator           modulefinder        sockshandler\n",
            "_hashlib            defusedxml          more_itertools      softwareproperties\n",
            "_heapq              descartes           moviepy             sortedcontainers\n",
            "_imp                difflib             mpmath              soundfile\n",
            "_io                 dill                msgpack             spacy\n",
            "_json               dis                 multidict           spacy_legacy\n",
            "_locale             distributed         multipledispatch    spacy_loggers\n",
            "_lsprof             distutils           multiprocessing     sphinx\n",
            "_lzma               dlib                multitasking        spwd\n",
            "_markupbase         dns                 murmurhash          sql\n",
            "_md5                docs                music21             sqlalchemy\n",
            "_multibytecodec     doctest             natsort             sqlite3\n",
            "_multiprocessing    docutils            nbconvert           sqlparse\n",
            "_opcode             dopamine            nbformat            sre_compile\n",
            "_operator           dot_parser          netCDF4             sre_constants\n",
            "_osx_support        dummy_threading     netrc               sre_parse\n",
            "_pickle             easydict            networkx            srsly\n",
            "_plotly_future_     ecos                nibabel             ssl\n",
            "_plotly_utils       editdistance        nis                 stan\n",
            "_posixsubprocess    ee                  nisext              stat\n",
            "_py_abc             email               nltk                statistics\n",
            "_pydecimal          en_core_web_sm      nntplib             statsmodels\n",
            "_pyio               encodings           notebook            storemagic\n",
            "_pyrsistent_version entrypoints         ntpath              string\n",
            "_pytest             enum                nturl2path          stringprep\n",
            "_queue              ephem               numba               struct\n",
            "_random             erfa                numbergen           subprocess\n",
            "_rinterface_cffi_abi errno               numbers             sunau\n",
            "_rinterface_cffi_api et_xmlfile          numexpr             symbol\n",
            "_scs_direct         etils               numpy               sympy\n",
            "_scs_indirect       etuples             oauth2client        sympyprinting\n",
            "_sha1               fa2                 oauthlib            symtable\n",
            "_sha256             fastai              ogr                 sys\n",
            "_sha3               fastcore            okgrade             sysconfig\n",
            "_sha512             fastdownload        opcode              syslog\n",
            "_signal             fastdtw             openpyxl            tables\n",
            "_sitebuiltins       fastjsonschema      operator            tabnanny\n",
            "_socket             fastprogress        opt_einsum          tabulate\n",
            "_soundfile          fastrlock           optparse            tarfile\n",
            "_sqlite3            faulthandler        os                  tblib\n",
            "_sre                fcntl               osgeo               telnetlib\n",
            "_ssl                feather             osqp                tempfile\n",
            "_stat               filecmp             osqppurepy          tenacity\n",
            "_string             fileinput           osr                 tensorboard\n",
            "_strptime           filelock            ossaudiodev         tensorboard_data_server\n",
            "_struct             firebase_admin      packaging           tensorboard_plugin_wit\n",
            "_symtable           fix_yahoo_finance   palettable          tensorflow\n",
            "_sysconfigdata_m_linux_x86_64-linux-gnu flask               pandas              tensorflow_datasets\n",
            "_sysconfigdata_m_x86_64-linux-gnu flatbuffers         pandas_datareader   tensorflow_estimator\n",
            "_testbuffer         fnmatch             pandas_gbq          tensorflow_gcs_config\n",
            "_testcapi           folium              pandas_profiling    tensorflow_hub\n",
            "_testimportmultiple formatter           pandocfilters       tensorflow_io_gcs_filesystem\n",
            "_testmultiphase     fractions           panel               tensorflow_metadata\n",
            "_thread             frozenlist          param               tensorflow_probability\n",
            "_threading_local    fsspec              parser              termcolor\n",
            "_tkinter            ftplib              parso               terminado\n",
            "_tracemalloc        functools           partd               termios\n",
            "_warnings           future              past                test\n",
            "_weakref            gast                pasta               testpath\n",
            "_weakrefset         gc                  pastel              tests\n",
            "_xxtestfuzz         gdal                pathlib             text_unidecode\n",
            "_yaml               gdalconst           pathy               textblob\n",
            "abc                 gdalnumeric         patsy               textwrap\n",
            "absl                gdown               pdb                 thinc\n",
            "aeppl               genericpath         pep517              this\n",
            "aesara              gensim              pexpect             threading\n",
            "aifc                geographiclib       pickle              threadpoolctl\n",
            "aiohttp             geopy               pickleshare         tifffile\n",
            "aiosignal           getopt              pickletools         time\n",
            "alabaster           getpass             pip                 timeit\n",
            "albumentations      gettext             pipes               tkinter\n",
            "altair              gi                  piptools            tlz\n",
            "antigravity         gin                 pkg_resources       token\n",
            "apiclient           glob                pkgutil             tokenize\n",
            "appdirs             glob2               platform            toml\n",
            "apt                 gnm                 plistlib            tomli\n",
            "apt_inst            google_auth_httplib2 plotly              toolz\n",
            "apt_pkg             google_auth_oauthlib plotlywidget        torch\n",
            "aptsources          google_crc32c       plotnine            torchaudio\n",
            "argparse            google_drive_downloader pluggy              torchgen\n",
            "array               googleapiclient     pooch               torchsummary\n",
            "arviz               googlesearch        poplib              torchtext\n",
            "ast                 graphviz            portpicker          torchvision\n",
            "astor               greenlet            posix               tornado\n",
            "astropy             gridfs              posixpath           tqdm\n",
            "astunparse          grp                 pprint              trace\n",
            "async_timeout       grpc                prefetch_generator  traceback\n",
            "asynchat            grpc_status         preshed             tracemalloc\n",
            "asyncio             gspread             prettytable         traitlets\n",
            "asyncore            gspread_dataframe   profile             tree\n",
            "asynctest           gym                 progressbar         tty\n",
            "atari_py            gym_notices         prometheus_client   turtle\n",
            "atexit              gzip                promise             tweepy\n",
            "atomicwrites        h5py                prompt_toolkit      typeguard\n",
            "attr                hashlib             prophet             typer\n",
            "attrs               heapdict            proto               types\n",
            "audioop             heapq               pstats              typing\n",
            "audioread           hijri_converter     psutil              typing_extensions\n",
            "autograd            hmac                psycopg2            tzlocal\n",
            "autoreload          holidays            pty                 unicodedata\n",
            "babel               holoviews           ptyprocess          unification\n",
            "backcall            html                pwd                 unittest\n",
            "base64              html5lib            py                  uritemplate\n",
            "bdb                 http                py_compile          urllib\n",
            "bin                 httpimport          pyarrow             urllib3\n",
            "binascii            httplib2            pyasn1              uu\n",
            "binhex              httpstan            pyasn1_modules      uuid\n",
            "bisect              humanize            pyclbr              vega_datasets\n",
            "bleach              hyperopt            pycocotools         venv\n",
            "blis                idna                pycparser           vis\n",
            "bokeh               imageio             pyct                warnings\n",
            "boost               imagesize           pydantic            wasabi\n",
            "branca              imaplib             pydata_google_auth  wave\n",
            "bs4                 imblearn            pydoc               wcwidth\n",
            "bson                imgaug              pydoc_data          weakref\n",
            "builtins            imghdr              pydot               webargs\n",
            "bz2                 imp                 pydot_ng            webbrowser\n",
            "cProfile            importlib           pydotplus           webencodings\n",
            "cachecontrol        importlib_metadata  pydrive             werkzeug\n",
            "cached_property     importlib_resources pyemd               wheel\n",
            "cachetools          imutils             pyexpat             widgetsnbextension\n",
            "caffe2              inflect             pygments            wordcloud\n",
            "calendar            inspect             pygtkcompat         wrapt\n",
            "catalogue           intervaltree        pylab               wsgiref\n",
            "certifi             io                  pylev               xarray\n",
            "cffi                ipaddress           pymc                xarray_einstats\n",
            "cftime              ipykernel           pymeeus             xdrlib\n",
            "cgi                 ipykernel_launcher  pymongo             xgboost\n",
            "cgitb               ipython_genutils    pymystem3           xkit\n",
            "chardet             ipywidgets          pyparsing           xlrd\n",
            "charset_normalizer  isympy              pyrsistent          xlwt\n",
            "chunk               itertools           pysndfile           xml\n",
            "clang               itsdangerous        pytest              xmlrpc\n",
            "click               jax                 python_utils        xxlimited\n",
            "client              jaxlib              pytz                xxsubtype\n",
            "clikit              jieba               pyviz_comms         yaml\n",
            "cloudpickle         jinja2              pywt                yarl\n",
            "cmake               joblib              pyximport           yellowbrick\n",
            "cmath               jpeg4py             qdldl               zict\n",
            "cmd                 json                qudida              zipapp\n",
            "cmdstanpy           jsonschema          queue               zipfile\n",
            "code                jupyter             quopri              zipimport\n",
            "codecs              jupyter_client      random              zipp\n",
            "codeop              jupyter_console     re                  zlib\n",
            "colab               jupyter_core        readline            zmq\n",
            "collections         jupyterlab_plotly   regex               \n",
            "\n",
            "Enter any module name to get more help.  Or, type \"modules spam\" to search\n",
            "for modules whose name or summary contain the string \"spam\".\n",
            "\n"
          ]
        }
      ]
    },
    {
      "cell_type": "markdown",
      "source": [
        "# Loops in Python\n",
        "\n",
        "- Need for loops\n",
        "- While Loop\n",
        "- For Loop"
      ],
      "metadata": {
        "id": "l1gGr4e3LuJk"
      }
    },
    {
      "cell_type": "code",
      "source": [
        "# While loop example -> program to print the table\n",
        "# Program -> Sum of all digits of a given number\n",
        "# Program -> keep accepting numbers from users till he/she enters a 0 and then find the avg"
      ],
      "metadata": {
        "id": "HjpE637rL0uL"
      },
      "execution_count": null,
      "outputs": []
    },
    {
      "cell_type": "code",
      "source": [
        "number = int(input('enter the number'))\n",
        "\n",
        "i = 1\n",
        "\n",
        "while i<11:\n",
        "  print(number,'*',i,'=',number * i)\n",
        "  i += 1"
      ],
      "metadata": {
        "colab": {
          "base_uri": "https://localhost:8080/"
        },
        "id": "TaTpnM0wOmaA",
        "outputId": "2afda7ef-00a8-488e-abc1-2131193742e6"
      },
      "execution_count": null,
      "outputs": [
        {
          "output_type": "stream",
          "name": "stdout",
          "text": [
            "enter the number5\n",
            "5 * 1 = 5\n",
            "5 * 2 = 10\n",
            "5 * 3 = 15\n",
            "5 * 4 = 20\n",
            "5 * 5 = 25\n",
            "5 * 6 = 30\n",
            "5 * 7 = 35\n",
            "5 * 8 = 40\n",
            "5 * 9 = 45\n",
            "5 * 10 = 50\n"
          ]
        }
      ]
    },
    {
      "cell_type": "code",
      "source": [
        "# while loop with else \n",
        "\n",
        "x = 1\n",
        "\n",
        "while x < 3:\n",
        "  print(x)\n",
        "  x += 1\n",
        "\n",
        "else:\n",
        "  print('limit crossed')"
      ],
      "metadata": {
        "colab": {
          "base_uri": "https://localhost:8080/"
        },
        "id": "CAZOLnjbOmnz",
        "outputId": "a823387a-9b5b-42ab-e2f3-e2825c9d5a44"
      },
      "execution_count": null,
      "outputs": [
        {
          "output_type": "stream",
          "name": "stdout",
          "text": [
            "1\n",
            "2\n",
            "limit crossed\n"
          ]
        }
      ]
    },
    {
      "cell_type": "code",
      "source": [
        "# Guessing game\n",
        "\n",
        "# generate a random integer between 1 and 100\n",
        "import random\n",
        "jackpot = random.randint(1,100)\n",
        "\n",
        "guess = int(input('guess karo'))\n",
        "counter = 1\n",
        "while guess != jackpot:\n",
        "  if guess < jackpot:\n",
        "    print('galat!guess higher')\n",
        "  else:\n",
        "    print('galat!guess lower')\n",
        "\n",
        "  guess = int(input('guess karo'))\n",
        "  counter += 1\n",
        "\n",
        "else:\n",
        "  print('correct guess')\n",
        "  print('attempts',counter)\n",
        "\n",
        "  \n"
      ],
      "metadata": {
        "id": "8mP9pRKCOm1t",
        "colab": {
          "base_uri": "https://localhost:8080/"
        },
        "outputId": "50fa95ee-12ab-48b0-d3e6-3d6716d7524d"
      },
      "execution_count": 48,
      "outputs": [
        {
          "output_type": "stream",
          "name": "stdout",
          "text": [
            "guess karo10\n",
            "galat!guess higher\n",
            "guess karo20\n",
            "galat!guess higher\n",
            "guess karo30\n",
            "galat!guess lower\n",
            "guess karo25\n",
            "galat!guess higher\n",
            "guess karo26\n",
            "galat!guess higher\n",
            "guess karo27\n",
            "correct guess\n",
            "attempts 6\n"
          ]
        }
      ]
    },
    {
      "cell_type": "code",
      "source": [
        "# For loop demo\n",
        "\n",
        "for i in {1,2,3,4,5}:\n",
        "  print(i)"
      ],
      "metadata": {
        "id": "2uT6mSU9OnCN"
      },
      "execution_count": null,
      "outputs": []
    },
    {
      "cell_type": "code",
      "source": [
        "# Practice Question -1 \n",
        "# Program - The current population of a town is 10000. \n",
        "# The population of the town is increasing at the rate of 10% per year. \n",
        "# You have to write a program to find out the population at the end of each of the last 10 years.\n",
        "\n",
        "curr_pop = 10000\n",
        "\n",
        "for i in range(10,0,-1):\n",
        "  print(i,curr_pop)\n",
        "  curr_pop = curr_pop - 0.1*curr_pop\n"
      ],
      "metadata": {
        "id": "RLlhgRy0OniH"
      },
      "execution_count": null,
      "outputs": []
    },
    {
      "cell_type": "code",
      "source": [
        "# Practice Question - 2\n",
        "# Sequence sum\n",
        "# 1/1! + 2/2! + 3/3! + ..."
      ],
      "metadata": {
        "id": "L1CVjgWIPYbZ"
      },
      "execution_count": null,
      "outputs": []
    },
    {
      "cell_type": "markdown",
      "source": [
        "# Nested Loops\n"
      ],
      "metadata": {
        "id": "V0iQ7aslL52j"
      }
    },
    {
      "cell_type": "code",
      "source": [
        "# Pattern Questions :\n"
      ],
      "metadata": {
        "id": "5IMvMH-xMAgF"
      },
      "execution_count": null,
      "outputs": []
    },
    {
      "cell_type": "markdown",
      "source": [
        "# Loop Control Statement\n",
        "\n",
        "- Break\n",
        "- Continue\n",
        "- Pass"
      ],
      "metadata": {
        "id": "YmeKOiynMCHj"
      }
    },
    {
      "cell_type": "code",
      "source": [],
      "metadata": {
        "id": "NsWD-ZhDMHdS"
      },
      "execution_count": null,
      "outputs": []
    },
    {
      "cell_type": "code",
      "source": [],
      "metadata": {
        "id": "4AdnykKrSFpW"
      },
      "execution_count": 48,
      "outputs": []
    },
    {
      "cell_type": "markdown",
      "source": [
        "# ------------------------------------------------------------------------------"
      ],
      "metadata": {
        "id": "mGRnwgyASOVX"
      }
    },
    {
      "cell_type": "markdown",
      "source": [
        "# String in Python\n",
        "###  Strings are sequence of Characters\n",
        "\n",
        "In Python specifically, strings are a sequence of Unicode Characters\n",
        "\n",
        "- Creating Strings\n",
        "- Accessing Strings\n",
        "- Adding Chars to Strings\n",
        "- Editing Strings\n",
        "- Deleting Strings\n",
        "- Operations on Strings\n",
        "- String Functions"
      ],
      "metadata": {
        "id": "niWVup2mR4fV"
      }
    },
    {
      "cell_type": "markdown",
      "source": [
        "## - Creating Strings"
      ],
      "metadata": {
        "id": "MZ5IfOmqSj52"
      }
    },
    {
      "cell_type": "code",
      "source": [
        "#### Creating String\n",
        "s = 'hello'\n",
        "s = \"hello\"\n",
        "# multiline strings\n",
        "s = '''hello'''\n",
        "s = \"\"\"hello\"\"\"\n",
        "s = str('hello')\n",
        "print(s)"
      ],
      "metadata": {
        "colab": {
          "base_uri": "https://localhost:8080/"
        },
        "id": "Rux0oaLRSsLk",
        "outputId": "fbee570b-f48b-45bc-b4f2-38ee27c0da4e"
      },
      "execution_count": 53,
      "outputs": [
        {
          "output_type": "stream",
          "name": "stdout",
          "text": [
            "hello\n"
          ]
        }
      ]
    },
    {
      "cell_type": "markdown",
      "source": [
        "## - Accessing Substrings from a String"
      ],
      "metadata": {
        "id": "Kup79XmCStgs"
      }
    },
    {
      "cell_type": "code",
      "source": [
        "#### Accessing Substrings from a String\n",
        "\n",
        "# Positive Indexing\n",
        "s = 'hello world'\n",
        "print(s[4])\n",
        "\n",
        "# Negative Indexing\n",
        "s = 'hello world'\n",
        "print(s[-3])\n",
        "\n",
        "# Slicing\n",
        "s = 'hello world'\n",
        "print(s[6:0:-2])\n",
        "\n",
        "s = 'hello world'\n",
        "print(s[-1:-6:-1])"
      ],
      "metadata": {
        "colab": {
          "base_uri": "https://localhost:8080/"
        },
        "id": "--51VveLSy68",
        "outputId": "4b384ebe-b8d4-4f22-df31-d5748ee44ef1"
      },
      "execution_count": 52,
      "outputs": [
        {
          "output_type": "stream",
          "name": "stdout",
          "text": [
            "o\n",
            "r\n",
            "wol\n",
            "dlrow\n"
          ]
        }
      ]
    },
    {
      "cell_type": "markdown",
      "source": [
        "## - Editing and Deleting in Strings"
      ],
      "metadata": {
        "id": "OyHLhud2S1by"
      }
    },
    {
      "cell_type": "code",
      "source": [
        "s = 'hello world'\n",
        "s[0] = 'H' \n",
        "#error\n",
        "\n",
        "s = 'hello world'\n",
        "del s\n",
        "print(s)\n",
        "#error\n",
        "\n",
        "s = 'hello world'\n",
        "del s[-1:-5:2]\n",
        "print(s)\n",
        "#error\n",
        "\n",
        "# Python strings are immutable (it cannot be change)"
      ],
      "metadata": {
        "id": "si_qWK5DS7Ey"
      },
      "execution_count": null,
      "outputs": []
    },
    {
      "cell_type": "markdown",
      "source": [
        "## - Operations on Strings\n",
        "\n",
        "- Arithmetic Operations\n",
        "- Relational Operations\n",
        "- Logical Operations\n",
        "- Loops on Strings\n",
        "- Membership Operations"
      ],
      "metadata": {
        "id": "1g8734pcS9CH"
      }
    },
    {
      "cell_type": "code",
      "source": [
        "# Only Arithematic Opeartion (Add,Multiply) will work with strings\n",
        "print('delhi' + ' ' + 'mumbai')\n",
        "print('delhi '*5 )\n",
        "print(\"--------------------------------------------------\")\n",
        "\n",
        "# All Relational Opeartion will work (# lexiographically)\n",
        "'delhi' != 'delhi'\n",
        "'mumbai' > 'pune'\n",
        "'Pune' > 'pune'\n",
        "\n",
        "\n",
        "\n",
        "# Logical Operations\n",
        "'hello' and 'world'\n",
        "'hello' or 'world'\n",
        "'' and 'world'\n",
        "'' or 'world'\n",
        "'hello' or 'world'\n",
        "'hello' and 'world'\n",
        "not 'hello'\n",
        "\n",
        "\n",
        "\n",
        "# Loops will work on strings\n",
        "for i in 'hello':\n",
        "  print(i)\n",
        "print(\"--------------------------------------------------\")\n",
        "\n",
        "\n",
        "for i in 'delhi':\n",
        "  print('pune')\n",
        "print(\"--------------------------------------------------\")\n",
        "\n",
        "\n",
        "# Membership Operations in strings\n",
        "'D' in 'delhi'"
      ],
      "metadata": {
        "colab": {
          "base_uri": "https://localhost:8080/"
        },
        "id": "QPUceuBuTDyG",
        "outputId": "4978c9e8-997d-46bf-bcc5-f9e26056cace"
      },
      "execution_count": 70,
      "outputs": [
        {
          "output_type": "stream",
          "name": "stdout",
          "text": [
            "delhi mumbai\n",
            "delhi delhi delhi delhi delhi \n",
            "--------------------------------------------------\n",
            "h\n",
            "e\n",
            "l\n",
            "l\n",
            "o\n",
            "--------------------------------------------------\n",
            "pune\n",
            "pune\n",
            "pune\n",
            "pune\n",
            "pune\n",
            "--------------------------------------------------\n"
          ]
        },
        {
          "output_type": "execute_result",
          "data": {
            "text/plain": [
              "False"
            ]
          },
          "metadata": {},
          "execution_count": 70
        }
      ]
    },
    {
      "cell_type": "markdown",
      "source": [
        "## - Common Functions (String,List,Tuple,Set)\n",
        "- len\n",
        "- max\n",
        "- min\n",
        "- sorted"
      ],
      "metadata": {
        "id": "Cz9FIJZkTOYJ"
      }
    },
    {
      "cell_type": "code",
      "source": [
        "# These are common function which can work on string,  List, tuples, sets etc...\n",
        "# Len , max , min , sorted \n",
        "\n",
        "len('hello world')"
      ],
      "metadata": {
        "colab": {
          "base_uri": "https://localhost:8080/"
        },
        "id": "PavrSjrdTSdF",
        "outputId": "ba43ec15-8d46-4134-d2be-bee26564dd53"
      },
      "execution_count": 79,
      "outputs": [
        {
          "output_type": "execute_result",
          "data": {
            "text/plain": [
              "11"
            ]
          },
          "metadata": {},
          "execution_count": 79
        }
      ]
    },
    {
      "cell_type": "code",
      "source": [
        "max('hello world')"
      ],
      "metadata": {
        "colab": {
          "base_uri": "https://localhost:8080/",
          "height": 0
        },
        "id": "MWJyYn1kcP1L",
        "outputId": "3109ec7b-cd42-4f23-ffde-e1f7b5cbc698"
      },
      "execution_count": 76,
      "outputs": [
        {
          "output_type": "execute_result",
          "data": {
            "text/plain": [
              "'w'"
            ],
            "application/vnd.google.colaboratory.intrinsic+json": {
              "type": "string"
            }
          },
          "metadata": {},
          "execution_count": 76
        }
      ]
    },
    {
      "cell_type": "code",
      "source": [
        "min('hello world')"
      ],
      "metadata": {
        "colab": {
          "base_uri": "https://localhost:8080/",
          "height": 0
        },
        "id": "aQHbw71ecRe2",
        "outputId": "aaa67a13-b814-47d5-d81f-aa975f6703e9"
      },
      "execution_count": 77,
      "outputs": [
        {
          "output_type": "execute_result",
          "data": {
            "text/plain": [
              "' '"
            ],
            "application/vnd.google.colaboratory.intrinsic+json": {
              "type": "string"
            }
          },
          "metadata": {},
          "execution_count": 77
        }
      ]
    },
    {
      "cell_type": "code",
      "source": [
        "sorted('hello world',reverse=True)"
      ],
      "metadata": {
        "colab": {
          "base_uri": "https://localhost:8080/"
        },
        "id": "WZFs7rYqcTK2",
        "outputId": "8cb145c6-c7f7-4856-8e80-9d06bb769292"
      },
      "execution_count": 78,
      "outputs": [
        {
          "output_type": "execute_result",
          "data": {
            "text/plain": [
              "['w', 'r', 'o', 'o', 'l', 'l', 'l', 'h', 'e', 'd', ' ']"
            ]
          },
          "metadata": {},
          "execution_count": 78
        }
      ]
    },
    {
      "cell_type": "markdown",
      "source": [
        "## - String Functions ---------------\n",
        "\n",
        "## - Capitalize/Title/Upper/Lower/Swapcase\n",
        "## - Count/Find/Index\n",
        "## - endswith/startswith\n",
        "## - format\n",
        "## - isalnum/ isalpha/ isdigit/ isidentifier\n",
        "## - Split/Join\n",
        "## - Replace\n",
        "## - Strip\n",
        "\n",
        "\n"
      ],
      "metadata": {
        "id": "r0XFHauRTT-S"
      }
    },
    {
      "cell_type": "code",
      "source": [
        "### Capitalize/Title/Upper/Lower/Swapcase\n",
        "s = \"hello wolrd\""
      ],
      "metadata": {
        "id": "9AtCOtoPTbk5"
      },
      "execution_count": 88,
      "outputs": []
    },
    {
      "cell_type": "code",
      "source": [
        "s.capitalize()"
      ],
      "metadata": {
        "colab": {
          "base_uri": "https://localhost:8080/",
          "height": 35
        },
        "id": "JZX7FjzXesSL",
        "outputId": "1d0c019d-8b3a-4c10-ae64-4f40c2c910de"
      },
      "execution_count": 87,
      "outputs": [
        {
          "output_type": "execute_result",
          "data": {
            "text/plain": [
              "'Hello wolrd'"
            ],
            "application/vnd.google.colaboratory.intrinsic+json": {
              "type": "string"
            }
          },
          "metadata": {},
          "execution_count": 87
        }
      ]
    },
    {
      "cell_type": "code",
      "source": [
        "s.title()"
      ],
      "metadata": {
        "colab": {
          "base_uri": "https://localhost:8080/",
          "height": 35
        },
        "id": "C9hKIQ0weYmk",
        "outputId": "6c2e9b42-0fa8-4933-e291-25843a807fa2"
      },
      "execution_count": 85,
      "outputs": [
        {
          "output_type": "execute_result",
          "data": {
            "text/plain": [
              "'Hello Wolrd'"
            ],
            "application/vnd.google.colaboratory.intrinsic+json": {
              "type": "string"
            }
          },
          "metadata": {},
          "execution_count": 85
        }
      ]
    },
    {
      "cell_type": "code",
      "source": [
        "s.upper()"
      ],
      "metadata": {
        "colab": {
          "base_uri": "https://localhost:8080/",
          "height": 35
        },
        "id": "sPqQvnxuegpo",
        "outputId": "1c1144b9-eaca-4b8d-fa9b-d96a47da4337"
      },
      "execution_count": 84,
      "outputs": [
        {
          "output_type": "execute_result",
          "data": {
            "text/plain": [
              "'HELLO WOLRD'"
            ],
            "application/vnd.google.colaboratory.intrinsic+json": {
              "type": "string"
            }
          },
          "metadata": {},
          "execution_count": 84
        }
      ]
    },
    {
      "cell_type": "code",
      "source": [
        "s.lower()"
      ],
      "metadata": {
        "colab": {
          "base_uri": "https://localhost:8080/",
          "height": 35
        },
        "id": "vfUKdspHexFs",
        "outputId": "b214f2ed-9393-4093-b2ac-e46b58ebbfe8"
      },
      "execution_count": 89,
      "outputs": [
        {
          "output_type": "execute_result",
          "data": {
            "text/plain": [
              "'hello wolrd'"
            ],
            "application/vnd.google.colaboratory.intrinsic+json": {
              "type": "string"
            }
          },
          "metadata": {},
          "execution_count": 89
        }
      ]
    },
    {
      "cell_type": "code",
      "source": [
        "### Count/Find/Index\n",
        "\"my name is faheem\".count(\"e\")  # find frequncy count in string"
      ],
      "metadata": {
        "colab": {
          "base_uri": "https://localhost:8080/"
        },
        "id": "2UXq-nq0digl",
        "outputId": "b1faecc8-dbf1-452f-b1ac-d660869e8720"
      },
      "execution_count": 95,
      "outputs": [
        {
          "output_type": "execute_result",
          "data": {
            "text/plain": [
              "3"
            ]
          },
          "metadata": {},
          "execution_count": 95
        }
      ]
    },
    {
      "cell_type": "code",
      "source": [
        "\"my name is faheem\".find(\"is\")  # Find position in string if exists , if not exists it will return -1."
      ],
      "metadata": {
        "colab": {
          "base_uri": "https://localhost:8080/"
        },
        "id": "fAZCOgYYfLn_",
        "outputId": "85fbee5c-3fea-4e17-b0a3-4e10213bb5a5"
      },
      "execution_count": 99,
      "outputs": [
        {
          "output_type": "execute_result",
          "data": {
            "text/plain": [
              "8"
            ]
          },
          "metadata": {},
          "execution_count": 99
        }
      ]
    },
    {
      "cell_type": "code",
      "source": [
        "\"my name is faheem\".index(\"is\")  # Find position in string if exists , if not exists it will return error."
      ],
      "metadata": {
        "colab": {
          "base_uri": "https://localhost:8080/"
        },
        "id": "CEDzuRE2gI1r",
        "outputId": "ad333e64-695a-425d-dcf3-894c9e3e8ed9"
      },
      "execution_count": 100,
      "outputs": [
        {
          "output_type": "execute_result",
          "data": {
            "text/plain": [
              "8"
            ]
          },
          "metadata": {},
          "execution_count": 100
        }
      ]
    },
    {
      "cell_type": "code",
      "source": [
        " # endswith/startswith"
      ],
      "metadata": {
        "id": "c_UdAUF8dkjL"
      },
      "execution_count": 102,
      "outputs": []
    },
    {
      "cell_type": "code",
      "source": [
        "# format\n",
        "name = \"faheem\"\n",
        "gender = \"male\"\n",
        "\n",
        "\"Hi my name is {} and i am {}\".format(name,gender)"
      ],
      "metadata": {
        "colab": {
          "base_uri": "https://localhost:8080/",
          "height": 35
        },
        "id": "utoLo-zAdoSQ",
        "outputId": "5115c72c-b6ad-415e-cf4c-caceee7958d8"
      },
      "execution_count": 105,
      "outputs": [
        {
          "output_type": "execute_result",
          "data": {
            "text/plain": [
              "'Hi my name is faheem and i am male'"
            ],
            "application/vnd.google.colaboratory.intrinsic+json": {
              "type": "string"
            }
          },
          "metadata": {},
          "execution_count": 105
        }
      ]
    },
    {
      "cell_type": "code",
      "source": [
        "# isalnum/ isalpha/ isdigit/ isidentifier"
      ],
      "metadata": {
        "id": "PwULm5MOdpC3"
      },
      "execution_count": null,
      "outputs": []
    },
    {
      "cell_type": "code",
      "source": [
        "# Split/Join\n",
        "\"Hi my name is faheem \".split()"
      ],
      "metadata": {
        "colab": {
          "base_uri": "https://localhost:8080/"
        },
        "id": "3gImpQqQdpO5",
        "outputId": "775de7da-3181-48c3-f65d-abcc35830864"
      },
      "execution_count": 108,
      "outputs": [
        {
          "output_type": "execute_result",
          "data": {
            "text/plain": [
              "['Hi', 'my', 'name', 'is', 'faheem']"
            ]
          },
          "metadata": {},
          "execution_count": 108
        }
      ]
    },
    {
      "cell_type": "code",
      "source": [
        "\"-\".join(['Hi', 'my', 'name', 'is', 'faheem'])"
      ],
      "metadata": {
        "colab": {
          "base_uri": "https://localhost:8080/",
          "height": 35
        },
        "id": "scPlqZG7izHw",
        "outputId": "aaa3fa81-f4e4-4d11-e540-afbfc94a11b9"
      },
      "execution_count": 109,
      "outputs": [
        {
          "output_type": "execute_result",
          "data": {
            "text/plain": [
              "'Hi-my-name-is-faheem'"
            ],
            "application/vnd.google.colaboratory.intrinsic+json": {
              "type": "string"
            }
          },
          "metadata": {},
          "execution_count": 109
        }
      ]
    },
    {
      "cell_type": "code",
      "source": [
        "# Replace\n",
        "\"Hi my name is faheem\".replace(\"faheem\",\"Khan\")"
      ],
      "metadata": {
        "colab": {
          "base_uri": "https://localhost:8080/",
          "height": 35
        },
        "id": "6Rb9TZNldpa_",
        "outputId": "de08945b-0f6a-4480-cc0e-e71e0d58d514"
      },
      "execution_count": 110,
      "outputs": [
        {
          "output_type": "execute_result",
          "data": {
            "text/plain": [
              "'Hi my name is Khan'"
            ],
            "application/vnd.google.colaboratory.intrinsic+json": {
              "type": "string"
            }
          },
          "metadata": {},
          "execution_count": 110
        }
      ]
    },
    {
      "cell_type": "code",
      "source": [
        "# Strip\n",
        "\"Faheem                           \".strip()"
      ],
      "metadata": {
        "colab": {
          "base_uri": "https://localhost:8080/",
          "height": 35
        },
        "id": "aDDReyegdpmg",
        "outputId": "eb3185e7-3232-4e60-f753-b871bdba0777"
      },
      "execution_count": 111,
      "outputs": [
        {
          "output_type": "execute_result",
          "data": {
            "text/plain": [
              "'Faheem'"
            ],
            "application/vnd.google.colaboratory.intrinsic+json": {
              "type": "string"
            }
          },
          "metadata": {},
          "execution_count": 111
        }
      ]
    },
    {
      "cell_type": "markdown",
      "source": [],
      "metadata": {
        "id": "R3usTw6UTdBI"
      }
    },
    {
      "cell_type": "markdown",
      "source": [
        "# Example Problems"
      ],
      "metadata": {
        "id": "Xa5FbyJUkDb3"
      }
    },
    {
      "cell_type": "code",
      "source": [
        "# Find the length of a given string without using the len() function\n",
        "\n",
        "s = input('enter the string')\n",
        "\n",
        "counter = 0\n",
        "\n",
        "for i in s:\n",
        "  counter += 1\n",
        "\n",
        "print('length of string is',counter)"
      ],
      "metadata": {
        "id": "-6gY0lIikHXt"
      },
      "execution_count": null,
      "outputs": []
    },
    {
      "cell_type": "code",
      "source": [
        "# Extract username from a given email. \n",
        "# Eg if the email is nitish24singh@gmail.com \n",
        "# then the username should be nitish24singh\n",
        "\n",
        "s = input('enter the email')\n",
        "\n",
        "pos = s.index('@')\n",
        "print(s[0:pos])"
      ],
      "metadata": {
        "id": "A_p19dwjkHlc"
      },
      "execution_count": null,
      "outputs": []
    },
    {
      "cell_type": "code",
      "source": [
        "# Count the frequency of a particular character in a provided string. \n",
        "# Eg 'hello how are you' is the string, the frequency of h in this string is 2.\n",
        "\n",
        "s = input('enter the email')\n",
        "term = input('what would like to search for')\n",
        "\n",
        "counter = 0\n",
        "for i in s:\n",
        "  if i == term:\n",
        "    counter += 1\n",
        "\n",
        "print('frequency',counter)"
      ],
      "metadata": {
        "id": "EJ5IMSZKkHxU"
      },
      "execution_count": null,
      "outputs": []
    },
    {
      "cell_type": "code",
      "source": [
        "# Write a program which can remove a particular character from a string.\n",
        "s = input('enter the string')\n",
        "term = input('what would like to remove')\n",
        "\n",
        "result = ''\n",
        "\n",
        "for i in s:\n",
        "  if i != term:\n",
        "    result = result + i\n",
        "\n",
        "print(result)"
      ],
      "metadata": {
        "id": "BvUCXe2CkH9m"
      },
      "execution_count": null,
      "outputs": []
    },
    {
      "cell_type": "code",
      "source": [
        "# Write a program that can check whether a given string is palindrome or not.\n",
        "# abba\n",
        "# malayalam\n",
        "\n",
        "s = input('enter the string')\n",
        "flag = True\n",
        "for i in range(0,len(s)//2):\n",
        "  if s[i] != s[len(s) - i -1]:\n",
        "    flag = False\n",
        "    print('Not a Palindrome')\n",
        "    break\n",
        "\n",
        "if flag:\n",
        "  print('Palindrome')"
      ],
      "metadata": {
        "id": "BiRMuEyvkIJ0"
      },
      "execution_count": null,
      "outputs": []
    },
    {
      "cell_type": "code",
      "source": [
        "# Write a program to count the number of words in a string without split()\n",
        "\n",
        "s = input('enter the string')\n",
        "L = []\n",
        "temp = ''\n",
        "for i in s:\n",
        "\n",
        "  if i != ' ':\n",
        "    temp = temp + i\n",
        "  else:\n",
        "    L.append(temp)\n",
        "    temp = ''\n",
        "\n",
        "L.append(temp)\n",
        "print(L)"
      ],
      "metadata": {
        "id": "UQePddBTkIVa"
      },
      "execution_count": null,
      "outputs": []
    },
    {
      "cell_type": "code",
      "source": [
        "# Write a python program to convert a string to title case without using the title()\n",
        "s = input('enter the string')\n",
        "\n",
        "L = []\n",
        "for i in s.split():\n",
        "  L.append(i[0].upper() + i[1:].lower())\n",
        "\n",
        "print(\" \".join(L))"
      ],
      "metadata": {
        "id": "8Az1d7jHkIgt"
      },
      "execution_count": null,
      "outputs": []
    },
    {
      "cell_type": "code",
      "source": [
        "# Write a program that can convert an integer to string.\n",
        "\n",
        "number = int(input('enter the number'))\n",
        "\n",
        "digits = '0123456789'\n",
        "result = ''\n",
        "while number != 0:\n",
        "  result = digits[number % 10] + result\n",
        "  number = number//10\n",
        "\n",
        "print(result)\n",
        "print(type(result))"
      ],
      "metadata": {
        "id": "_-sPG1zEkIqm"
      },
      "execution_count": null,
      "outputs": []
    }
  ]
}
